{
 "cells": [
  {
   "cell_type": "markdown",
   "metadata": {},
   "source": [
    "# Assignment 3 Receiver: Receiving Morse Symbols using ESP-NOW Protocol\n",
    "\n",
    "This notebook demonstrates how to receive data via ESP-NOW protocol\n",
    "\n",
    "Link to the workshop assignment: https://developer.espressif.com/workshops/micropython-jupyter-notebooks-in-browser/assignment-3-receiver/"
   ]
  },
  {
   "cell_type": "code",
   "execution_count": null,
   "metadata": {},
   "outputs": [],
   "source": [
    "import network\n",
    "import espnow\n",
    "import neopixel\n",
    "import machine\n",
    "import time"
   ]
  },
  {
   "cell_type": "code",
   "execution_count": null,
   "metadata": {},
   "outputs": [],
   "source": [
    "'''\n",
    "Setup Wi-Fi in station mode and initialize ESP-NOW for receiving messages.\n",
    "\n",
    "For docs refer to:\n",
    "https://docs.micropython.org/en/latest/library/network.html\n",
    "https://docs.micropython.org/en/latest/library/espnow.html\n",
    "'''\n",
    "\n",
    "# Setup Wi-Fi station interface\n",
    "sta = ...\n",
    "\n",
    "# Print the MAC address of the station interface\n",
    "print(\"My MAC address:\", sta.config('mac'))"
   ]
  },
  {
   "cell_type": "code",
   "execution_count": null,
   "metadata": {},
   "outputs": [],
   "source": [
    "'''\n",
    "Configure the addressable LED on GPIO 2.\n",
    "Number of pixels is 1.\n",
    "\n",
    "For docs refer to:\n",
    "https://docs.micropython.org/en/latest/esp8266/tutorial/neopixel.html\n",
    "'''\n",
    "\n",
    "# Setup NeoPixel on GPIO2 (1 pixel)\n",
    "neopixel_led = ..."
   ]
  },
  {
   "cell_type": "code",
   "execution_count": null,
   "metadata": {},
   "outputs": [],
   "source": [
    "'''\n",
    "Define timing constants and setup ESP-NOW for Morse code visualization\n",
    "'''\n",
    "\n",
    "# Initialize ESP-NOW\n",
    "e = ...\n",
    "\n",
    "# Morse code timing constants\n",
    "DOT_TIME = 0.2   # seconds LED on for dot\n",
    "DASH_TIME = 0.6  # seconds LED on for dash\n",
    "PAUSE = 0.2      # gap after each symbol"
   ]
  },
  {
   "cell_type": "code",
   "execution_count": null,
   "metadata": {},
   "outputs": [],
   "source": [
    "def set_color(r, g, b):\n",
    "    \"\"\"Set the addressable LED to a specific RGB color\"\"\"\n",
    "    neopixel_led[0] = (r, g, b)\n",
    "    neopixel_led.write()\n",
    "\n",
    "def clear_led():\n",
    "    \"\"\"Turn off the addressable LED LED\"\"\"\n",
    "    set_color(0, 0, 0)\n",
    "\n",
    "def blink_dot():\n",
    "    \"\"\"\n",
    "    Display a dot: green LED for DOT_TIME seconds\n",
    "    \"\"\"\n",
    "    # Set LED to green for dot\n",
    "    ...\n",
    "\n",
    "def blink_dash():\n",
    "    \"\"\"\n",
    "    Display a dash: red LED for DASH_TIME seconds\n",
    "    \"\"\"\n",
    "    ...\n",
    "\n",
    "def blink_morse_symbol(symbol):\n",
    "    \"\"\"\n",
    "    Display the received Morse symbol with appropriate color and timing.\n",
    "    Includes pause after each symbol.\n",
    "    \"\"\"\n",
    "    ...\n"
   ]
  },
  {
   "cell_type": "code",
   "execution_count": null,
   "metadata": {},
   "outputs": [],
   "source": [
    "print(\"Morse Code Receiver with LED ready...\")\n",
    "print(\"Waiting for messages...\")\n",
    "print(\"Dot = Green LED, Dash = Red LED\")\n",
    "print(\"Press the stop button on the toolbar to terminate the while loop.\")\n",
    "\n",
    "while True:\n",
    "    \"\"\"\n",
    "    Listen for ESP-NOW messages and display them as Morse code on the LED.\n",
    "    Returns the received symbol or None if no message.\n",
    "    \"\"\"\n",
    "    # Receive message from ESP-NOW\n",
    "    host, msg = ...\n",
    "    \n",
    "    if msg:\n",
    "        # Decode the message\n",
    "        symbol = msg.decode()\n",
    "        print(\"Received:\", symbol)\n",
    "\n",
    "        # Display the symbol on LED\n",
    "        blink_morse_symbol(symbol)"
   ]
  }
 ],
 "metadata": {
  "kernelspec": {
   "display_name": "Python (Pyodide)",
   "language": "python",
   "name": "python"
  },
  "language_info": {
   "name": "python",
   "version": "3.8"
  }
 },
 "nbformat": 4,
 "nbformat_minor": 4
}
