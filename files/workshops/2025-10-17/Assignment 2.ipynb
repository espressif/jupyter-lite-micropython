{
 "cells": [
  {
   "cell_type": "markdown",
   "metadata": {},
   "source": [
    "# Assignment 2: Learn interrupts with button\n",
    "\n",
    "This notebook demonstrates, how to read button input and create interactive LED responses.\n",
    "\n",
    "Link to the workshop assignment: https://developer.espressif.com/workshops/micropython-jupyter-notebooks-in-browser/assignment-2/"
   ]
  },
  {
   "cell_type": "code",
   "execution_count": null,
   "metadata": {},
   "outputs": [],
   "source": [
    "import machine\n",
    "import time\n",
    "from neopixel import NeoPixel"
   ]
  },
  {
   "cell_type": "code",
   "execution_count": null,
   "metadata": {},
   "outputs": [],
   "source": [
    "# Configuration of addressable LED\n",
    "led_pin = machine.Pin(2, machine.Pin.OUT)\n",
    "np = NeoPixel(led_pin, 1)  # 1 LED\n",
    "\n",
    "def set_color(r, g, b):\n",
    "    \"\"\"Set LED to specified RGB color\"\"\"\n",
    "    np[0] = (r, g, b)\n",
    "    np.write()\n",
    "\n",
    "def clear_led():\n",
    "    \"\"\"Turn off the LED\"\"\"\n",
    "    np[0] = (0, 0, 0)\n",
    "    np.write()\n",
    "\n",
    "# Test the LED\n",
    "set_color(0, 255, 0)  # Green\n",
    "time.sleep(0.5)\n",
    "clear_led()\n",
    "print(\"LED test complete!\")"
   ]
  },
  {
   "cell_type": "code",
   "execution_count": null,
   "metadata": {},
   "outputs": [],
   "source": [
    "'''\n",
    "Configure the button located on GPIO 9 (Button labeled Boot).\n",
    "\n",
    "For docs refer to:\n",
    "https://docs.micropython.org/en/latest/esp8266/tutorial/pins.html\n",
    "'''\n",
    "\n",
    "button = ...\n",
    "print(f\"Button configured on pin 9\")"
   ]
  },
  {
   "cell_type": "code",
   "execution_count": null,
   "metadata": {},
   "outputs": [],
   "source": [
    "def wait_for_button_press():\n",
    "    \"\"\"Wait until button is pressed\"\"\"\n",
    "    ...\n",
    "\n",
    "print(\"Waiting for button press...\")\n",
    "wait_for_button_press()"
   ]
  },
  {
   "cell_type": "code",
   "execution_count": null,
   "metadata": {},
   "outputs": [],
   "source": [
    "led_state = False\n",
    "\n",
    "print(\"Press button to toggle LED. Press the stop button on the toolbar to terminate the while loop.\")\n",
    "\n",
    "while True:\n",
    "    ...\n"
   ]
  },
  {
   "cell_type": "code",
   "execution_count": null,
   "metadata": {},
   "outputs": [],
   "source": [
    "def measure_press_duration():\n",
    "    \"\"\"Measure how long the button is held down\"\"\"\n",
    "    ...\n",
    "\n",
    "print(\"Press and hold the button...\")\n",
    "wait_for_button_press()\n",
    "duration = measure_press_duration()\n",
    "print(f\"Button held for {duration:.2f} seconds\")"
   ]
  },
  {
   "cell_type": "markdown",
   "metadata": {},
   "source": [
    "## Bonus Challenge: Visual Feedback Based on Duration\n",
    "\n",
    "Change LED color based on how long the button is pressed:\n",
    "- Short press (< 1s): Blue\n",
    "- Medium press (1-3s): Yellow\n",
    "- Long press (> 3s): Red\n",
    "\n"
   ]
  },
  {
   "cell_type": "code",
   "execution_count": null,
   "metadata": {},
   "outputs": [],
   "source": [
    "print(\"Press button for different durations. Press the stop button on the toolbar to stop.\")\n",
    "\n",
    "while True:\n",
    "  ..."
   ]
  }
 ],
 "metadata": {
  "kernelspec": {
   "display_name": "MicroPython - USB",
   "language": "micropython",
   "name": "micropython"
  },
  "language_info": {
   "codemirror_mode": "python",
   "file_extension": ".py",
   "name": "micropython"
  }
 },
 "nbformat": 4,
 "nbformat_minor": 4
}
