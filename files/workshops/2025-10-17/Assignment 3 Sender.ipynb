{
 "cells": [
  {
   "cell_type": "markdown",
   "metadata": {},
   "source": [
    "# Assignment 3 Sender: Sending Morse Symbols using ESP-NOW Protocol\n",
    "\n",
    "This notebook demonstrates how to send data via ESP-NOW protocol\n",
    "\n",
    "Link to the workshop assignment: https://developer.espressif.com/workshops/micropython-jupyter-notebooks-in-browser/assignment-3-sender/"
   ]
  },
  {
   "cell_type": "code",
   "execution_count": null,
   "metadata": {},
   "outputs": [],
   "source": [
    "import network\n",
    "import espnow\n",
    "import machine\n",
    "import time"
   ]
  },
  {
   "cell_type": "code",
   "execution_count": null,
   "metadata": {},
   "outputs": [],
   "source": [
    "'''\n",
    "Initialize the Wi-Fi station interface and ESP-NOW communication.\n",
    "\n",
    "For docs refer to:\n",
    "https://docs.micropython.org/en/latest/library/network.html\n",
    "https://docs.micropython.org/en/latest/library/espnow.html\n",
    "'''\n",
    "\n",
    "# Create Wi-Fi station interface\n",
    "sta = ...\n",
    "\n",
    "# Initialize ESP-NOW\n",
    "e = ...\n",
    "\n",
    "# MAC address of receiver (replace <MAC_ADDRESS> receiver's MAC!)\n",
    "peer_mac = b'<MAC_ADDRESS>'\n",
    "\n",
    "# Try to delete any existing peer\n",
    "try:\n",
    "    e.del_peer(peer_mac)\n",
    "except OSError:\n",
    "    pass\n",
    "\n",
    "# Add peer to ESP-NOW\n",
    "..."
   ]
  },
  {
   "cell_type": "code",
   "execution_count": null,
   "metadata": {},
   "outputs": [],
   "source": [
    "'''\n",
    "Configure the button on GPIO 9 with internal pull-up resistor.\n",
    "Set timing constants for Morse code detection.\n",
    "'''\n",
    "\n",
    "# Button configuration on GPIO9 with pull-up\n",
    "button = ...\n",
    "\n",
    "# Timing thresholds for Morse code\n",
    "DOT_THRESHOLD = ...  # seconds, below = dot, above = dash\n",
    "DEBOUNCE = ...      # minimum press duration to register\n",
    "\n",
    "def wait_for_button_press():\n",
    "    \"\"\"Wait until the button is pressed\"\"\"\n",
    "    while button.value() == 1:\n",
    "        time.sleep(0.05)\n",
    "\n",
    "def measure_press_duration():\n",
    "    \"\"\"\n",
    "    Measure how long the button is held down.\n",
    "    Returns the duration in seconds.\n",
    "    \"\"\"\n",
    "    start = time.ticks_ms()\n",
    "    # Wait while button is pressed (value is 0)\n",
    "    while button.value() == 0:\n",
    "        time.sleep(0.05)\n",
    "\n",
    "    # Calculate duration in seconds\n",
    "    duration = time.ticks_diff(time.ticks_ms(), start) / 1000.0\n",
    "    return duration\n",
    "\n",
    "def determine_morse_symbol(duration):\n",
    "    \"\"\"\n",
    "    Determine if the button press was a dot or dash based on duration.\n",
    "    Returns '.' for short press, '-' for long press, or None for too short.\n",
    "    \"\"\"\n",
    "    # If the press duration is too short, ignore\n",
    "    ...\n",
    "\n",
    "    # Return dot or dash based on DOT_THRESHOLD\n",
    "    return ...\n",
    "\n",
    "def send_morse_symbol(symbol):\n",
    "    \"\"\"\n",
    "    Send the morse symbol to the receiver via ESP-NOW.\n",
    "    \"\"\"\n",
    "    print(\"Sending:\", symbol)\n",
    "    # Send encoded symbol to peer\n",
    "    ..."
   ]
  },
  {
   "cell_type": "code",
   "execution_count": null,
   "metadata": {},
   "outputs": [],
   "source": [
    "print(\"Morse Code Sender Ready!\")\n",
    "print(\"Press button: short = dot (.), long = dash (-)\")\n",
    "print(\"Press the stop button on the toolbar to terminate the while loop.\")\n",
    "\n",
    "while True:\n",
    "    # Wait for button press\n",
    "    wait_for_button_press()\n",
    "\n",
    "    # Measure how long it was pressed\n",
    "    duration = measure_press_duration()\n",
    "\n",
    "    # Determine morse symbol\n",
    "    symbol = determine_morse_symbol(duration)\n",
    "\n",
    "    # Send if valid symbol\n",
    "    if symbol:\n",
    "        send_morse_symbol(symbol)"
   ]
  }
 ],
 "metadata": {
  "kernelspec": {
   "display_name": "Python (Pyodide)",
   "language": "python",
   "name": "python"
  },
  "language_info": {
   "name": "python",
   "version": "3.8"
  }
 },
 "nbformat": 4,
 "nbformat_minor": 4
}
