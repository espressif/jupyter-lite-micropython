{
 "cells": [
  {
   "cell_type": "markdown",
   "metadata": {},
   "source": [
    "# Assignment 1: Addressable LED with MicroPython\n",
    "\n",
    "This notebook demonstrates how to configure and control a single **addressable LED** using MicroPython.  \n",
    "We will explore setting a static color, cycling through rainbow colors, and applying a breathing effect.\n",
    "\n",
    "Link to the workshop assignment: https://developer.espressif.com/workshops/micropython-jupyter-notebooks-in-browser/assignment-1/"
   ]
  },
  {
   "cell_type": "code",
   "execution_count": null,
   "metadata": {},
   "outputs": [],
   "source": [
    "import machine\n",
    "import neopixel\n",
    "import time"
   ]
  },
  {
   "cell_type": "code",
   "execution_count": null,
   "metadata": {},
   "outputs": [],
   "source": [
    "'''\n",
    "Configure the addressable LED located on GPIO 2.\n",
    "Number of pixels is 1.\n",
    "\n",
    "For docs refer to:\n",
    "https://docs.micropython.org/en/latest/esp8266/tutorial/neopixel.html\n",
    "'''\n",
    "\n",
    "neopixel_led = ..."
   ]
  },
  {
   "cell_type": "code",
   "execution_count": null,
   "metadata": {},
   "outputs": [],
   "source": [
    "def set_color(r, g, b):\n",
    "    \"\"\"Set the addressable LED to a specific RGB color\"\"\"\n",
    "    ...\n",
    "\n",
    "def clear_led():\n",
    "    \"\"\"Turn off the LED\"\"\"\n",
    "    ...\n",
    "\n",
    "set_color(255,0,0)\n",
    "time.sleep(1)\n",
    "set_color(0,255,0)\n",
    "time.sleep(1)\n",
    "set_color(0,0,255)\n",
    "time.sleep(1)\n",
    "clear_led()"
   ]
  },
  {
   "cell_type": "code",
   "execution_count": null,
   "metadata": {},
   "outputs": [],
   "source": [
    "def rainbow_cycle():\n",
    "    \"\"\"Cycle through rainbow colors\"\"\"\n",
    "    # Create various tuples for rainbow colors\n",
    "    ...\n",
    "    # Cycle through colors\n",
    "    ...\n",
    "\n",
    "rainbow_cycle()"
   ]
  },
  {
   "cell_type": "code",
   "execution_count": null,
   "metadata": {},
   "outputs": [],
   "source": [
    "def breathing_effect(r, g, b, duration=2, steps=50):\n",
    "    \"\"\"\n",
    "    Create a breathing effect with the specified color\n",
    "    duration → total time for fade in + fade out\n",
    "    steps → number of discrete brightness levels\n",
    "    \"\"\"\n",
    "    # Fade in\n",
    "    ...\n",
    "    # Fade out\n",
    "    ...\n",
    "    clear_led()\n",
    "\n",
    "breathing_effect(0, 100, 255)"
   ]
  }
 ],
 "metadata": {
  "kernelspec": {
   "display_name": "Python (Pyodide)",
   "language": "python",
   "name": "python"
  },
  "language_info": {
   "name": "python",
   "version": "3.8"
  }
 },
 "nbformat": 4,
 "nbformat_minor": 4
}
